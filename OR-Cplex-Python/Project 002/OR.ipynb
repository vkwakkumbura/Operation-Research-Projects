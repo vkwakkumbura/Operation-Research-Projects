{
  "nbformat": 4,
  "nbformat_minor": 0,
  "metadata": {
    "colab": {
      "provenance": []
    },
    "kernelspec": {
      "name": "python3",
      "display_name": "Python 3"
    },
    "language_info": {
      "name": "python"
    }
  },
  "cells": [
    {
      "cell_type": "code",
      "execution_count": 7,
      "metadata": {
        "colab": {
          "base_uri": "https://localhost:8080/"
        },
        "id": "Gh6N4F1wZs8G",
        "outputId": "0546ce8c-720c-4600-9174-555c9e1afd4d"
      },
      "outputs": [
        {
          "output_type": "stream",
          "name": "stdout",
          "text": [
            "Requirement already satisfied: cplex in /usr/local/lib/python3.10/dist-packages (22.1.1.0)\n",
            "Requirement already satisfied: docplex in /usr/local/lib/python3.10/dist-packages (2.25.236)\n",
            "Requirement already satisfied: six in /usr/local/lib/python3.10/dist-packages (from docplex) (1.16.0)\n"
          ]
        }
      ],
      "source": [
        "!pip install cplex\n",
        "!pip install docplex\n",
        "from docplex.mp.model import Model\n",
        "\n"
      ]
    },
    {
      "cell_type": "code",
      "source": [
        "# Create a new model\n",
        "model = Model()\n",
        "\n",
        "# Add variables to the model\n",
        "x = model.integer_var(name='x')  # Aluminum wire production\n",
        "y = model.integer_var(name='y')  # Copper wire production\n",
        "\n",
        "# Add constraints to the model\n",
        "model.add_constraint(5 * x + 2 * y <= 500)  # Electricity constraint\n",
        "model.add_constraint(0.25 * x + 0.5 * y <= 40)  # Labor constraint\n",
        "model.add_constraint(y <= 30)  # Copper wire production constraint\n",
        "\n",
        "# Define the objective function\n",
        "objective = 0.25 * x + 0.4 * y  # Profit function\n",
        "\n",
        "# Set the maximization objective\n",
        "model.maximize(objective)\n",
        "\n"
      ],
      "metadata": {
        "id": "rZEN6t89apb3"
      },
      "execution_count": 8,
      "outputs": []
    },
    {
      "cell_type": "code",
      "source": [
        "# Solve the model\n",
        "model.solve()\n",
        "\n",
        "# Print the optimal solution\n",
        "print('Optimal solution:')\n",
        "print('Aluminum wire:', x.solution_value)\n",
        "print('Copper wire:', y.solution_value)\n",
        "print('Profit:', objective.solution_value)"
      ],
      "metadata": {
        "colab": {
          "base_uri": "https://localhost:8080/"
        },
        "id": "od9zZyU1erOj",
        "outputId": "98c4259c-8d77-484d-8d08-789e31d2434d"
      },
      "execution_count": null,
      "outputs": [
        {
          "output_type": "stream",
          "name": "stdout",
          "text": [
            "Optimal solution:\n",
            "Aluminum wire: 88.0\n",
            "Copper wire: 30.0\n",
            "Profit: 34.0\n"
          ]
        }
      ]
    }
  ]
}