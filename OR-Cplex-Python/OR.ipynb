{
  "cells": [
    {
      "cell_type": "code",
      "execution_count": 2,
      "metadata": {
        "colab": {
          "base_uri": "https://localhost:8080/"
        },
        "id": "Gh6N4F1wZs8G",
        "outputId": "9bb08331-d52e-4f87-eb14-05c60756e0bc"
      },
      "outputs": [
        {
          "name": "stdout",
          "output_type": "stream",
          "text": [
            "Collecting cplex\n",
            "  Downloading cplex-22.1.1.0-cp310-cp310-manylinux1_x86_64.whl (44.2 MB)\n",
            "\u001b[2K     \u001b[90m━━━━━━━━━━━━━━━━━━━━━━━━━━━━━━━━━━━━━━━━\u001b[0m \u001b[32m44.2/44.2 MB\u001b[0m \u001b[31m15.3 MB/s\u001b[0m eta \u001b[36m0:00:00\u001b[0m\n",
            "\u001b[?25hInstalling collected packages: cplex\n",
            "Successfully installed cplex-22.1.1.0\n",
            "Collecting docplex\n",
            "  Downloading docplex-2.25.236.tar.gz (633 kB)\n",
            "\u001b[2K     \u001b[90m━━━━━━━━━━━━━━━━━━━━━━━━━━━━━━━━━━━━━━━━\u001b[0m \u001b[32m633.5/633.5 kB\u001b[0m \u001b[31m8.4 MB/s\u001b[0m eta \u001b[36m0:00:00\u001b[0m\n",
            "\u001b[?25h  Preparing metadata (setup.py) ... \u001b[?25l\u001b[?25hdone\n",
            "Requirement already satisfied: six in /usr/local/lib/python3.10/dist-packages (from docplex) (1.16.0)\n",
            "Building wheels for collected packages: docplex\n",
            "  Building wheel for docplex (setup.py) ... \u001b[?25l\u001b[?25hdone\n",
            "  Created wheel for docplex: filename=docplex-2.25.236-py3-none-any.whl size=671349 sha256=90fc2cdfc2031516ddc8333c810fbdb9240f0f2a78fff6c30d1cf062f78e57ba\n",
            "  Stored in directory: /root/.cache/pip/wheels/3b/e5/00/0bf0173d67188fe73a13e3a61412b3f975f60205e3fab93a69\n",
            "Successfully built docplex\n",
            "Installing collected packages: docplex\n",
            "Successfully installed docplex-2.25.236\n"
          ]
        }
      ],
      "source": [
        "#import Libraries\n",
        "\n",
        "!pip install cplex\n",
        "!pip install docplex\n",
        "from docplex.mp.model import Model\n",
        "\n"
      ]
    },
    {
      "cell_type": "code",
      "execution_count": 6,
      "metadata": {
        "id": "rZEN6t89apb3"
      },
      "outputs": [],
      "source": [
        "# Create a new model\n",
        "model = Model()\n",
        "\n",
        "# Add variables to the model\n",
        "x = model.integer_var(name='x')  # shirt productin\n",
        "y = model.integer_var(name='y')  # blouse production\n",
        "\n",
        "# Add constraints to the model\n",
        "model.add_constraint(20*x + 60*y <= 25*8*5*60)  # Cutting constraint\n",
        "model.add_constraint(70*x + 60*y <= 35*8*5*60)  # Sewing constraint\n",
        "model.add_constraint(12*x + 4*y <= 5*8*5*60)  # Packaging constraint\n",
        "\n",
        "# Define the objective function\n",
        "objective = 8 * x + 12 * y  # Profit function\n",
        "\n",
        "# Set the maximization objective\n",
        "model.maximize(objective)\n",
        "\n"
      ]
    },
    {
      "cell_type": "code",
      "execution_count": 7,
      "metadata": {
        "colab": {
          "base_uri": "https://localhost:8080/"
        },
        "id": "od9zZyU1erOj",
        "outputId": "d3e80ae0-8b20-42c9-d067-9b034ab42515"
      },
      "outputs": [
        {
          "name": "stdout",
          "output_type": "stream",
          "text": [
            "Optimal solution:\n",
            "Shirt: 480.0\n",
            "blouse: 840.0\n",
            "Profit: 13920.0\n"
          ]
        }
      ],
      "source": [
        "# Solve the model\n",
        "model.solve()\n",
        "\n",
        "# Print the optimal solution\n",
        "print('Optimal solution:')\n",
        "print('Shirt:', x.solution_value)\n",
        "print('blouse:', y.solution_value)\n",
        "print('Profit:', objective.solution_value)"
      ]
    }
  ],
  "metadata": {
    "colab": {
      "provenance": []
    },
    "kernelspec": {
      "display_name": "Python 3",
      "name": "python3"
    },
    "language_info": {
      "name": "python"
    }
  },
  "nbformat": 4,
  "nbformat_minor": 0
}
